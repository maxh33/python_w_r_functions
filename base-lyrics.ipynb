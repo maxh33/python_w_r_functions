{
 "cells": [
  {
   "cell_type": "code",
   "execution_count": 7,
   "metadata": {},
   "outputs": [
    {
     "name": "stdout",
     "output_type": "stream",
     "text": [
      "Overwriting music.txt\n"
     ]
    }
   ],
   "source": [
    "%%writefile music.txt\n",
    "Cinema\n",
    "Benny Benassi Skrillex Remix \n",
    "\n",
    "I could watch you for a lifetime\n",
    "You're my favorite movie\n",
    "A thousand endings\n",
    "You mean everything to me\n",
    "I never know what's coming\n",
    "Forever fascinating\n",
    "Hope you don't stop running\n",
    "To me 'cause I'll always be waiting\n",
    "You are my cinema, I could watch you forever\n",
    "Action-thriller, I could watch you forever\n",
    "You are my cinema, a Hollywood treasure\n",
    "Love you just the way you are\n",
    "My cinema, my cinema\n",
    "Stars spell out your name\n",
    "Like in a science fiction drama\n",
    "Romance growing\n",
    "Like a flower in the summer\n",
    "You always keep me guessing\n",
    "Forever my wonder\n",
    "Hope you start undressing\n",
    "All my dreams and take me under\n",
    "You are my cinema, I could watch you forever\n",
    "Action-thriller, I could watch you forever\n",
    "You are my cinema, a Hollywood treasure\n",
    "Love you just the way you are\n",
    "My cinema, my cinema\n",
    "Never know what movie you're playing\n",
    "Never know what movie you're playing\n",
    "Never know what movie you're playing\n",
    "Never know, never know, never know\n",
    "You are my cinema, I could watch you forever\n",
    "Action-thriller, I could watch you forever\n",
    "You are my cinema, a Hollywood treasure\n",
    "Love you just the way you are\n",
    "My cinema, my cinema"
   ]
  },
  {
   "cell_type": "code",
   "execution_count": 23,
   "metadata": {},
   "outputs": [],
   "source": [
    "# This function should return a list of words from the line_number of the file.\n",
    "def extract_words_from_line(line_number: int, file='./music.txt') -> list[str]:\n",
    "    try:\n",
    "        with open(file, mode='r', encoding='utf-8') as read_file:\n",
    "            for current_line_number, line in enumerate(read_file, start=1):\n",
    "                if current_line_number == line_number:\n",
    "                    words = line.strip().split(' ')\n",
    "                    return words\n",
    "        return []\n",
    "    except Exception as e:\n",
    "        print(f\"Error to read file: {e}\")\n",
    "        return [] "
   ]
  },
  {
   "cell_type": "code",
   "execution_count": 24,
   "metadata": {},
   "outputs": [
    {
     "name": "stdout",
     "output_type": "stream",
     "text": [
      "['Hope', 'you', \"don't\", 'stop', 'running']\n"
     ]
    }
   ],
   "source": [
    "line10 = extract_words_from_line(10,'./music.txt')\n",
    "print(line10)     "
   ]
  }
 ],
 "metadata": {
  "kernelspec": {
   "display_name": "Python 3",
   "language": "python",
   "name": "python3"
  },
  "language_info": {
   "codemirror_mode": {
    "name": "ipython",
    "version": 3
   },
   "file_extension": ".py",
   "mimetype": "text/x-python",
   "name": "python",
   "nbconvert_exporter": "python",
   "pygments_lexer": "ipython3",
   "version": "3.12.3"
  }
 },
 "nbformat": 4,
 "nbformat_minor": 2
}
