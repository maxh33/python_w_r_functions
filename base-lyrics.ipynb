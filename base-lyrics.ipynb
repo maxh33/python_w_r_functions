{
 "cells": [
  {
   "cell_type": "code",
   "execution_count": 2,
   "metadata": {},
   "outputs": [
    {
     "name": "stdout",
     "output_type": "stream",
     "text": [
      "Writing music.txt\n"
     ]
    }
   ],
   "source": [
    "%%writefile music.txt\n",
    "Cinema\n",
    "Benny Benassi Skrillex Remix \n",
    "\n",
    "I could watch you for a lifetime\n",
    "You're my favorite movie\n",
    "A thousand endings\n",
    "You mean everything to me\n",
    "I never know what's coming\n",
    "Forever fascinating\n",
    "Hope you don't stop running\n",
    "To me 'cause I'll always be waiting\n",
    "You are my cinema, I could watch you forever\n",
    "Action-thriller, I could watch you forever\n",
    "You are my cinema, a Hollywood treasure\n",
    "Love you just the way you are\n",
    "My cinema, my cinema\n",
    "Stars spell out your name\n",
    "Like in a science fiction drama\n",
    "Romance growing\n",
    "Like a flower in the summer\n",
    "You always keep me guessing\n",
    "Forever my wonder\n",
    "Hope you start undressing\n",
    "All my dreams and take me under\n",
    "You are my cinema, I could watch you forever\n",
    "Action-thriller, I could watch you forever\n",
    "You are my cinema, a Hollywood treasure\n",
    "Love you just the way you are\n",
    "My cinema, my cinema\n",
    "Never know what movie you're playing\n",
    "Never know what movie you're playing\n",
    "Never know what movie you're playing\n",
    "Never know, never know, never know\n",
    "You are my cinema, I could watch you forever\n",
    "Action-thriller, I could watch you forever\n",
    "You are my cinema, a Hollywood treasure\n",
    "Love you just the way you are\n",
    "My cinema, my cinema"
   ]
  }
 ],
 "metadata": {
  "kernelspec": {
   "display_name": "Python 3",
   "language": "python",
   "name": "python3"
  },
  "language_info": {
   "codemirror_mode": {
    "name": "ipython",
    "version": 3
   },
   "file_extension": ".py",
   "mimetype": "text/x-python",
   "name": "python",
   "nbconvert_exporter": "python",
   "pygments_lexer": "ipython3",
   "version": "3.12.3"
  }
 },
 "nbformat": 4,
 "nbformat_minor": 2
}
